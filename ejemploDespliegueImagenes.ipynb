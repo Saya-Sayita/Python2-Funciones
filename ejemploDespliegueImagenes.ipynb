{
  "nbformat": 4,
  "nbformat_minor": 0,
  "metadata": {
    "colab": {
      "provenance": [],
      "authorship_tag": "ABX9TyPTIYUaqRH0GBry10/HrUsh",
      "include_colab_link": true
    },
    "kernelspec": {
      "name": "python3",
      "display_name": "Python 3"
    },
    "language_info": {
      "name": "python"
    }
  },
  "cells": [
    {
      "cell_type": "markdown",
      "metadata": {
        "id": "view-in-github",
        "colab_type": "text"
      },
      "source": [
        "<a href=\"https://colab.research.google.com/github/Saya-Sayita/Python2-Funciones/blob/main/ejemploDespliegueImagenes.ipynb\" target=\"_parent\"><img src=\"https://colab.research.google.com/assets/colab-badge.svg\" alt=\"Open In Colab\"/></a>"
      ]
    },
    {
      "cell_type": "markdown",
      "source": [
        "# Ejemplo manejo de imagenes sin incluir codigo para informes"
      ],
      "metadata": {
        "id": "WTMuUwpNwCY5"
      }
    },
    {
      "cell_type": "code",
      "source": [
        "from IPython.display import Image\n",
        "\n",
        "# Mostrar la imagen guardada\n",
        "Image('imagenes/ejemploGrafico.png')\n"
      ],
      "metadata": {
        "id": "2xhPC3YcwKTx"
      },
      "execution_count": null,
      "outputs": []
    },
    {
      "cell_type": "code",
      "execution_count": null,
      "metadata": {
        "id": "hVd9OupBvzqR"
      },
      "outputs": [],
      "source": [
        "\n"
      ]
    }
  ]
}