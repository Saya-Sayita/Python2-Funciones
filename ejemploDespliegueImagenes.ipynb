{
  "nbformat": 4,
  "nbformat_minor": 0,
  "metadata": {
    "colab": {
      "provenance": [],
      "authorship_tag": "ABX9TyNLLLriN/wCrT/vhVv5sNhm",
      "include_colab_link": true
    },
    "kernelspec": {
      "name": "python3",
      "display_name": "Python 3"
    },
    "language_info": {
      "name": "python"
    }
  },
  "cells": [
    {
      "cell_type": "markdown",
      "metadata": {
        "id": "view-in-github",
        "colab_type": "text"
      },
      "source": [
        "<a href=\"https://colab.research.google.com/github/Saya-Sayita/Python2-Funciones/blob/main/ejemploDespliegueImagenes.ipynb\" target=\"_parent\"><img src=\"https://colab.research.google.com/assets/colab-badge.svg\" alt=\"Open In Colab\"/></a>"
      ]
    },
    {
      "cell_type": "markdown",
      "source": [
        "# Ejemplo manejo de imagenes sin incluir codigo para informes"
      ],
      "metadata": {
        "id": "WTMuUwpNwCY5"
      }
    },
    {
      "cell_type": "markdown",
      "source": [
        "![Grafico por Genero](https://github.com/Saya-Sayita/Python2-Funciones/blob/main/imagenes/porGenero.png?raw=true)"
      ],
      "metadata": {
        "id": "SetBxO1y0mkd"
      }
    },
    {
      "cell_type": "code",
      "source": [
        "\n",
        "\n"
      ],
      "metadata": {
        "id": "2xhPC3YcwKTx",
        "outputId": "a4744dde-71d4-4026-f613-2784ee061111",
        "colab": {
          "base_uri": "https://localhost:8080/"
        }
      },
      "execution_count": 6,
      "outputs": [
        {
          "output_type": "stream",
          "name": "stdout",
          "text": [
            "/bin/bash: -c: line 1: syntax error near unexpected token `('\n",
            "/bin/bash: -c: line 1: `[Grafico por Genero](https://github.com/Saya-Sayita/Python2-Funciones/blob/main/imagenes/porGenero.png?raw=true)'\n"
          ]
        }
      ]
    },
    {
      "cell_type": "code",
      "execution_count": null,
      "metadata": {
        "id": "hVd9OupBvzqR"
      },
      "outputs": [],
      "source": [
        "\n"
      ]
    }
  ]
}