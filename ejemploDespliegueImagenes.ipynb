{
  "nbformat": 4,
  "nbformat_minor": 0,
  "metadata": {
    "colab": {
      "provenance": [],
      "authorship_tag": "ABX9TyNQtATg57HakMnBDRi/a2EG",
      "include_colab_link": true
    },
    "kernelspec": {
      "name": "python3",
      "display_name": "Python 3"
    },
    "language_info": {
      "name": "python"
    }
  },
  "cells": [
    {
      "cell_type": "markdown",
      "metadata": {
        "id": "view-in-github",
        "colab_type": "text"
      },
      "source": [
        "<a href=\"https://colab.research.google.com/github/Saya-Sayita/Python2-Funciones/blob/main/ejemploDespliegueImagenes.ipynb\" target=\"_parent\"><img src=\"https://colab.research.google.com/assets/colab-badge.svg\" alt=\"Open In Colab\"/></a>"
      ]
    },
    {
      "cell_type": "markdown",
      "source": [
        "# Ejemplo manejo de imagenes sin incluir codigo para informes"
      ],
      "metadata": {
        "id": "WTMuUwpNwCY5"
      }
    },
    {
      "cell_type": "markdown",
      "source": [],
      "metadata": {
        "id": "lx377xtS1vdv"
      }
    },
    {
      "cell_type": "markdown",
      "source": [
        "![Grafico por Genero](https://github.com/Saya-Sayita/Python2-Funciones/blob/main/imagenes/porGenero.png?raw=true)"
      ],
      "metadata": {
        "id": "SetBxO1y0mkd"
      }
    },
    {
      "cell_type": "markdown",
      "source": [
        "# otro ejemplo\n",
        "\n"
      ],
      "metadata": {
        "id": "T2ILxiuP1mIw"
      }
    },
    {
      "cell_type": "markdown",
      "source": [
        "![Grafico de Ejemplo](https://github.com/Saya-Sayita/Python2-Funciones/blob/main/imagenes/ejemploGrafico.png?raw=true)"
      ],
      "metadata": {
        "id": "8XS5PpK61y4H"
      }
    },
    {
      "cell_type": "code",
      "execution_count": 6,
      "metadata": {
        "id": "hVd9OupBvzqR"
      },
      "outputs": [],
      "source": [
        "\n"
      ]
    }
  ]
}